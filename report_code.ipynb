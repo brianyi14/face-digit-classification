{
 "cells": [
  {
   "cell_type": "code",
   "execution_count": 1,
   "metadata": {},
   "outputs": [],
   "source": [
    "import pandas as pd\n",
    "#import csv"
   ]
  },
  {
   "cell_type": "code",
   "execution_count": 2,
   "metadata": {},
   "outputs": [
    {
     "name": "stdout",
     "output_type": "stream",
     "text": [
      "(139999,) (4999, 1)\n"
     ]
    }
   ],
   "source": [
    "train_img_d = pd.read_csv(\"data/digitdata/trainingimages\", skip_blank_lines=False, squeeze=True)\n",
    "test_lbl_d = pd.read_csv(\"data/digitdata/traininglabels\", skip_blank_lines=False)\n",
    "print(train_img_d.shape, test_lbl_d.shape)"
   ]
  },
  {
   "cell_type": "code",
   "execution_count": 3,
   "metadata": {},
   "outputs": [
    {
     "name": "stdout",
     "output_type": "stream",
     "text": [
      "height of each number: 28.0\n",
      "width of each number: 28\n"
     ]
    }
   ],
   "source": [
    "print('height of each number:', 140000/5000)\n",
    "print('width of each number:', len(train_img_d[0]))"
   ]
  },
  {
   "cell_type": "code",
   "execution_count": 4,
   "metadata": {
    "scrolled": false
   },
   "outputs": [
    {
     "data": {
      "text/plain": [
       "0                                 \n",
       "1                                 \n",
       "2                                 \n",
       "3                                 \n",
       "4                     +++++##+    \n",
       "5             +++++######+###+    \n",
       "6            +##########+++++     \n",
       "7             #######+##          \n",
       "8             +++###  ++          \n",
       "9                +#+              \n",
       "10               +#+              \n",
       "11                +#+             \n",
       "12                +##++           \n",
       "13                 +###++         \n",
       "14                  ++##++        \n",
       "15                    +##+        \n",
       "16                     ###+       \n",
       "17                  +++###        \n",
       "18                ++#####+        \n",
       "19              ++######+         \n",
       "20            ++######+           \n",
       "21           +######+             \n",
       "22        ++######+               \n",
       "23        +####++                 \n",
       "24                                \n",
       "25                                \n",
       "26                                \n",
       "27                                \n",
       "Name:                             , dtype: object"
      ]
     },
     "execution_count": 4,
     "metadata": {},
     "output_type": "execute_result"
    }
   ],
   "source": [
    "train_img_d[0:28]"
   ]
  },
  {
   "cell_type": "code",
   "execution_count": 5,
   "metadata": {},
   "outputs": [
    {
     "data": {
      "text/plain": [
       "0                                 \n",
       "1                                 \n",
       "2                                 \n",
       "3                                 \n",
       "4                     11111221    \n",
       "5             1111122222212221    \n",
       "6            1222222222211111     \n",
       "7             2222222122          \n",
       "8             111222  11          \n",
       "9                121              \n",
       "10               121              \n",
       "11                121             \n",
       "12                12211           \n",
       "13                 122211         \n",
       "14                  112211        \n",
       "15                    1221        \n",
       "16                     2221       \n",
       "17                  111222        \n",
       "18                11222221        \n",
       "19              112222221         \n",
       "20            112222221           \n",
       "21           12222221             \n",
       "22        112222221               \n",
       "23        1222211                 \n",
       "24                                \n",
       "25                                \n",
       "26                                \n",
       "27                                \n",
       "Name:                             , dtype: object"
      ]
     },
     "execution_count": 5,
     "metadata": {},
     "output_type": "execute_result"
    }
   ],
   "source": [
    "# Visualization of my conversion in next code block\n",
    "test = train_img_d.copy()\n",
    "test = test.apply(lambda x: x.replace('+', '1'))\n",
    "test = test.apply(lambda x: x.replace('#', '2'))\n",
    "#test.apply(lambda x: x.replace('', '1'), inplace=True)\n",
    "test[0:28]"
   ]
  },
  {
   "cell_type": "code",
   "execution_count": 6,
   "metadata": {},
   "outputs": [],
   "source": [
    "train_img_d_arr = [[0 for i in range(28)] for j in range(28)]\n",
    "for i in range(28):\n",
    "    for j in range(28):\n",
    "        if train_img_d[i][j] == '+':\n",
    "            train_img_d_arr[i][j] = 1\n",
    "        if train_img_d[i][j] == '#':\n",
    "            train_img_d_arr[i][j] = 2"
   ]
  },
  {
   "cell_type": "code",
   "execution_count": 7,
   "metadata": {},
   "outputs": [
    {
     "data": {
      "text/plain": [
       "11"
      ]
     },
     "execution_count": 7,
     "metadata": {},
     "output_type": "execute_result"
    }
   ],
   "source": [
    "# Test my formula to see if it is correct\n",
    "sum(train_img_d_arr[23])"
   ]
  },
  {
   "cell_type": "code",
   "execution_count": null,
   "metadata": {},
   "outputs": [],
   "source": []
  }
 ],
 "metadata": {
  "kernelspec": {
   "display_name": "Python 3",
   "language": "python",
   "name": "python3"
  },
  "language_info": {
   "codemirror_mode": {
    "name": "ipython",
    "version": 3
   },
   "file_extension": ".py",
   "mimetype": "text/x-python",
   "name": "python",
   "nbconvert_exporter": "python",
   "pygments_lexer": "ipython3",
   "version": "3.7.4"
  }
 },
 "nbformat": 4,
 "nbformat_minor": 2
}
